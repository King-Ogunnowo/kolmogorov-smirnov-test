{
 "cells": [
  {
   "cell_type": "markdown",
   "id": "568ed559-f8cf-400e-ad9c-5b4d15f2942e",
   "metadata": {},
   "source": [
    "# Introduction\n",
    "\n",
    "The objective of this notebook is to explore the implementation of the Kolmogronov-Smirnov Two Sample Test\n",
    "\n",
    "Also called the KS 2 Sample Test, the Kolmogronov-Smirnov Two Sample Test compares two data distrbutions to see if they are of the same underlying distribution. In such a test, you have:\n",
    "1. Two samples\n",
    "2. A null and alternate hypothesis\n",
    "   <ul>\n",
    "       - Null is written in negative form: <b>There is no difference in distributions between the two samples provided</b> <br>\n",
    "       - Alternate is written in positive form: <b>There is a difference in distributions between the two samples provided</b><br>\n",
    "   </ul>\n",
    "3. An Alpha Value: The Probability of wrongly rejecting the null hypothesis\n",
    "\n",
    "<b>From my readings I observed that the KS 2 Sample Test follows a four step process:</b>\n",
    "1. Sorting each sample\n",
    "2. Computing the CDF for each sample\n",
    "3. Computing the maximum difference in the two CDFs\n",
    "4. Computing the p-value\n",
    "5. If the p-value is < the alpha level, reject the null hypothesis\n",
    "\n",
    "<b> What Libraries do I need for this exploration?</b>\n",
    "1. Numpy\n",
    "2. Scipy"
   ]
  },
  {
   "cell_type": "markdown",
   "id": "6c03b963-158d-42b9-ae97-e4d4eab3f8b8",
   "metadata": {},
   "source": [
    "### An Example where the distributions are similar "
   ]
  },
  {
   "cell_type": "code",
   "execution_count": 10,
   "id": "a64d8339-e8ae-49ee-a12d-492cbea2f8d4",
   "metadata": {},
   "outputs": [],
   "source": [
    "# importing libraries needed, and our implementation of the \n",
    "\n",
    "from ks_2_samp_test import KS_2_sample_test\n",
    "import numpy as np\n",
    "import scipy"
   ]
  },
  {
   "cell_type": "code",
   "execution_count": null,
   "id": "9ef65c43-90ae-4c4b-8d04-5191b4051d52",
   "metadata": {},
   "outputs": [],
   "source": []
  },
  {
   "cell_type": "code",
   "execution_count": 5,
   "id": "2a415906-0712-498b-9acd-6096605d418a",
   "metadata": {},
   "outputs": [
    {
     "data": {
      "text/plain": [
       "(array([876, 532, 597, 343, 645, 119, 957,  88, 444,  99, 892, 327, 659,\n",
       "        434, 534, 584, 775, 484, 133, 233, 733, 679, 633, 175, 533, 123,\n",
       "        560, 772, 506, 257, 604, 649, 818, 693, 765,  80, 524, 234, 778,\n",
       "        602, 869, 263, 142, 714, 919, 259, 585, 803,  92, 824, 672, 267,\n",
       "        848,  25, 483, 616, 297, 941, 530, 656, 569,  94, 838, 830, 658,\n",
       "        814, 962, 219, 183, 895, 862, 394, 883, 738, 696, 293, 920, 451,\n",
       "        490, 883, 837, 290, 417, 736, 548, 837, 188, 894, 906, 386,  89,\n",
       "        969, 559, 598,   0, 362, 409, 265, 528, 979, 348, 627, 563, 307,\n",
       "        401, 737, 533, 424, 676, 244, 863, 672, 309, 982, 105, 828, 161,\n",
       "        828,  63, 694, 361, 577, 540, 614, 978, 207, 423, 404,  83, 440,\n",
       "        856, 381, 378, 515, 955, 370, 151, 746, 478, 496, 755, 746, 659,\n",
       "        235, 346, 441, 810, 770,  38, 601, 785, 410, 588, 748, 301, 818,\n",
       "        467, 897, 470, 807, 961, 898, 941, 789, 378, 668, 108, 216, 832,\n",
       "        227, 974, 855, 311, 595, 383, 672, 342, 150, 195, 375, 887, 446,\n",
       "        948, 315, 724, 235, 180, 350, 868, 626,  92, 900, 528, 313, 808,\n",
       "        946, 145, 767,  24, 702]),\n",
       " array([411, 856,  38, 872,  81, 496, 824, 365, 669, 576, 885,  53, 445,\n",
       "        379, 543, 403, 289, 676, 232, 685, 876,   9, 207,  14, 283,  96,\n",
       "        871, 328, 544, 484, 528, 888, 549, 643, 596, 319, 741, 220, 583,\n",
       "        266, 868, 784, 938, 423, 360, 294, 323, 470, 671, 745, 950, 208,\n",
       "        187, 184, 758, 260, 253, 383,  84, 190,  72, 762, 259, 831, 803,\n",
       "        836,  54,  53, 178, 568, 335, 333, 631, 890, 682, 655, 530, 831,\n",
       "        108, 555, 386,  61, 774, 548, 145, 922, 998, 451, 884, 393, 317,\n",
       "        363, 813, 812, 662, 850, 297, 706, 976, 792, 105, 485, 951, 564,\n",
       "        482, 623, 233, 155, 184, 150, 276, 997, 237, 313, 757, 277, 618,\n",
       "        484, 351, 650, 320, 827, 413, 418, 901, 626, 760,  85, 917, 345,\n",
       "        107, 760, 629, 735, 298,  17, 663, 640, 270, 510, 238, 909, 473,\n",
       "        649, 311,  49, 692, 626, 908, 726, 677, 664, 133, 919, 549, 839,\n",
       "        652, 665, 831, 179, 146, 818, 721, 793, 861, 969, 773, 187, 460,\n",
       "        369, 575, 804, 635, 841, 544, 119, 764, 443, 951, 562, 207,  62,\n",
       "         11, 866, 439,  46, 403, 828, 727, 355,  74, 296, 154, 585, 236,\n",
       "        701, 816, 795, 130, 329]))"
      ]
     },
     "execution_count": 5,
     "metadata": {},
     "output_type": "execute_result"
    }
   ],
   "source": [
    "A = np.random.randint(0, 1000, 200)\n",
    "B = np.random.randint(0, 1000, 200)\n",
    "\n",
    "A, B"
   ]
  },
  {
   "cell_type": "code",
   "execution_count": 6,
   "id": "ae1eb34c-71ca-4442-9725-ef2301a15f90",
   "metadata": {},
   "outputs": [
    {
     "name": "stdout",
     "output_type": "stream",
     "text": [
      "Null Hypothesis: There is NO difference between Sample 1 (array_a) and Sample 2 (array_b)\n",
      "Alternate Hypothesis: There is a difference between Sample 1 (array_a) and Sample 2 (array_b)\n",
      "\n",
      "\n",
      "{'ks-statistic': 0.08000000000000002, 'p-value': 0.5182193645480672}\n",
      "\n",
      "\n",
      "Null Hypothesis Accepted, Reason: 0.5182193645480672 > 0.05\n"
     ]
    }
   ],
   "source": [
    "KS_2_sample_test().run_test(array_a = A, array_b = B, alpha = 0.05)"
   ]
  },
  {
   "cell_type": "code",
   "execution_count": 12,
   "id": "ce895285-2380-4d9b-bb65-7e9990f1a8db",
   "metadata": {},
   "outputs": [
    {
     "data": {
      "text/plain": [
       "KstestResult(statistic=0.08, pvalue=0.5452713464323318, statistic_location=335, statistic_sign=-1)"
      ]
     },
     "execution_count": 12,
     "metadata": {},
     "output_type": "execute_result"
    }
   ],
   "source": [
    "# scipy's implementation\n",
    "\n",
    "scipy.stats.ks_2samp(A, B)"
   ]
  },
  {
   "cell_type": "markdown",
   "id": "88216fd0-e188-4d82-a7dd-5f54b0f3a1b3",
   "metadata": {},
   "source": [
    "### An Example Where Distributions are clearly different"
   ]
  },
  {
   "cell_type": "code",
   "execution_count": 16,
   "id": "10ee0c1d-4956-4ae9-ad7e-6cf9928bbfec",
   "metadata": {},
   "outputs": [
    {
     "data": {
      "text/plain": [
       "(array([ 25, 362, 796, 998, 155, 816, 761, 228, 125, 977,  15, 654, 385,\n",
       "        668, 675, 563, 211, 886, 826, 984, 460, 785, 852, 854, 522, 908,\n",
       "         19, 916,   3, 658, 648, 168,  24,  94, 572, 465, 210, 273, 718,\n",
       "        878, 509, 105, 807, 925, 876, 978, 914, 370, 593, 518, 394,  91,\n",
       "         62, 776, 836, 799, 573, 396, 483, 788, 633, 668, 135, 932, 401,\n",
       "        193, 952, 415, 376, 787, 160, 912,  89, 608, 998, 671, 486, 166,\n",
       "        355, 922, 187, 154, 316, 862, 147, 366, 880, 170, 604, 114, 662,\n",
       "        825, 492, 352, 391, 769, 911, 109,  13, 393, 233, 128,   1, 254,\n",
       "        792, 355, 638, 882, 873, 862, 634, 439, 951,  62, 905, 883, 481,\n",
       "        285,  76, 270,  96, 618, 436,  22, 973, 700, 845, 150, 928, 889,\n",
       "        363, 188, 717, 546, 832, 528, 639, 792, 666, 160, 657, 971, 552,\n",
       "        132, 983, 302, 961,  98, 311, 680, 759, 354, 203, 137, 643, 135,\n",
       "        718, 398, 720, 964, 237,  44, 569,  93, 798, 342, 608, 878, 314,\n",
       "        698, 296, 227, 923, 480, 872, 772, 449, 964, 768, 397, 338, 237,\n",
       "        536, 954, 652, 255,  63,   2, 178, 295, 896, 255, 227, 506, 147,\n",
       "        725, 378, 545, 984, 155]),\n",
       " array([1754,  640,  928,  797, 1627,  800, 1707,  542,  907, 1070, 1743,\n",
       "        1492, 1533,  666, 1397, 1911,  909, 1344, 1891, 1128, 1756, 1741,\n",
       "        1215,  945, 1382, 1422, 1133, 1348, 1748, 1233, 1669, 1399, 1399,\n",
       "        1475, 1717, 1207, 1685,  549,  803, 1356, 1478, 1360,  636, 1880,\n",
       "        1069, 1314, 1069, 1074, 1619, 1095,  774, 1572,  875,  663,  808,\n",
       "         558, 1788,  679, 1731, 1104, 1082, 1666, 1677,  761,  854,  546,\n",
       "        1333, 1758,  651, 1463, 1264, 1169, 1952, 1273, 1645, 1816, 1350,\n",
       "        1450,  857, 1513, 1033,  644, 1263, 1834, 1373, 1942, 1025, 1342,\n",
       "         788,  896,  559,  986, 1224,  625,  897, 1992, 1905, 1773, 1053,\n",
       "        1891, 1231, 1745, 1909, 1101,  960, 1460, 1868, 1820, 1819,  574,\n",
       "        1971,  506,  855, 1091, 1918,  543, 1702, 1886, 1478, 1491, 1812,\n",
       "        1174, 1076, 1125, 1890, 1257,  754, 1460, 1614,  722, 1931, 1234,\n",
       "        1254,  852, 1271,  745,  884, 1542,  933, 1669, 1969,  899,  676,\n",
       "        1363,  865, 1329,  905, 1697, 1134, 1511, 1293, 1249, 1341, 1184,\n",
       "        1420, 1859, 1299, 1294, 1552,  727, 1445, 1363,  754, 1909, 1840,\n",
       "        1739,  840,  679, 1946,  952, 1471,  752, 1240, 1114,  516,  564,\n",
       "         814,  684,  742, 1514, 1627, 1002, 1097,  663,  599, 1043, 1173,\n",
       "        1856, 1432, 1278, 1988, 1882,  845,  665, 1503, 1623,  644,  959,\n",
       "        1673,  566]))"
      ]
     },
     "execution_count": 16,
     "metadata": {},
     "output_type": "execute_result"
    }
   ],
   "source": [
    "A = np.random.randint(0, 1000, 200)\n",
    "B = np.random.randint(500, 2000, 200)\n",
    "\n",
    "A, B"
   ]
  },
  {
   "cell_type": "code",
   "execution_count": 17,
   "id": "81e22a4d-25d9-4654-a699-7d8dc4dcbc1f",
   "metadata": {},
   "outputs": [
    {
     "name": "stdout",
     "output_type": "stream",
     "text": [
      "Null Hypothesis: There is NO difference between Sample 1 (array_a) and Sample 2 (array_b)\n",
      "Alternate Hypothesis: There is a difference between Sample 1 (array_a) and Sample 2 (array_b)\n",
      "\n",
      "\n",
      "{'ks-statistic': 0.685, 'p-value': 3.5685974177585134e-47}\n",
      "\n",
      "\n",
      "Null Hypothesis Rejected, Reason: 3.5685974177585134e-47 < 0.05\n"
     ]
    }
   ],
   "source": [
    "KS_2_sample_test().run_test(array_a = A, array_b = B, alpha = 0.05)"
   ]
  },
  {
   "cell_type": "code",
   "execution_count": 18,
   "id": "2b7052c5-6ff1-46dc-b730-13cc764cdb40",
   "metadata": {},
   "outputs": [
    {
     "data": {
      "text/plain": [
       "KstestResult(statistic=0.685, pvalue=4.792055985422256e-45, statistic_location=998, statistic_sign=1)"
      ]
     },
     "execution_count": 18,
     "metadata": {},
     "output_type": "execute_result"
    }
   ],
   "source": [
    "scipy.stats.ks_2samp(A, B)"
   ]
  },
  {
   "cell_type": "code",
   "execution_count": null,
   "id": "835892b7-ab9b-4750-a532-32ea666c72f4",
   "metadata": {},
   "outputs": [],
   "source": []
  }
 ],
 "metadata": {
  "kernelspec": {
   "display_name": "Python 3 (ipykernel)",
   "language": "python",
   "name": "python3"
  },
  "language_info": {
   "codemirror_mode": {
    "name": "ipython",
    "version": 3
   },
   "file_extension": ".py",
   "mimetype": "text/x-python",
   "name": "python",
   "nbconvert_exporter": "python",
   "pygments_lexer": "ipython3",
   "version": "3.10.10"
  }
 },
 "nbformat": 4,
 "nbformat_minor": 5
}
